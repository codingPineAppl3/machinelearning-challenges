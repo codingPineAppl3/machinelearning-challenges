{
 "cells": [
  {
   "cell_type": "code",
   "execution_count": 40,
   "id": "dccefef0",
   "metadata": {},
   "outputs": [
    {
     "data": {
      "text/html": [
       "<div>\n",
       "<style scoped>\n",
       "    .dataframe tbody tr th:only-of-type {\n",
       "        vertical-align: middle;\n",
       "    }\n",
       "\n",
       "    .dataframe tbody tr th {\n",
       "        vertical-align: top;\n",
       "    }\n",
       "\n",
       "    .dataframe thead th {\n",
       "        text-align: right;\n",
       "    }\n",
       "</style>\n",
       "<table border=\"1\" class=\"dataframe\">\n",
       "  <thead>\n",
       "    <tr style=\"text-align: right;\">\n",
       "      <th></th>\n",
       "      <th>school</th>\n",
       "      <th>sex</th>\n",
       "      <th>age</th>\n",
       "      <th>address</th>\n",
       "      <th>famsize</th>\n",
       "      <th>Pstatus</th>\n",
       "      <th>Medu</th>\n",
       "      <th>Fedu</th>\n",
       "      <th>Mjob</th>\n",
       "      <th>Fjob</th>\n",
       "      <th>...</th>\n",
       "      <th>famrel</th>\n",
       "      <th>freetime</th>\n",
       "      <th>goout</th>\n",
       "      <th>Dalc</th>\n",
       "      <th>Walc</th>\n",
       "      <th>health</th>\n",
       "      <th>absences</th>\n",
       "      <th>G1</th>\n",
       "      <th>G2</th>\n",
       "      <th>G3</th>\n",
       "    </tr>\n",
       "  </thead>\n",
       "  <tbody>\n",
       "    <tr>\n",
       "      <th>0</th>\n",
       "      <td>GP</td>\n",
       "      <td>F</td>\n",
       "      <td>18</td>\n",
       "      <td>U</td>\n",
       "      <td>GT3</td>\n",
       "      <td>A</td>\n",
       "      <td>4</td>\n",
       "      <td>4</td>\n",
       "      <td>at_home</td>\n",
       "      <td>teacher</td>\n",
       "      <td>...</td>\n",
       "      <td>4</td>\n",
       "      <td>3</td>\n",
       "      <td>4</td>\n",
       "      <td>1</td>\n",
       "      <td>1</td>\n",
       "      <td>3</td>\n",
       "      <td>6</td>\n",
       "      <td>5</td>\n",
       "      <td>6</td>\n",
       "      <td>6</td>\n",
       "    </tr>\n",
       "    <tr>\n",
       "      <th>1</th>\n",
       "      <td>GP</td>\n",
       "      <td>F</td>\n",
       "      <td>17</td>\n",
       "      <td>U</td>\n",
       "      <td>GT3</td>\n",
       "      <td>T</td>\n",
       "      <td>1</td>\n",
       "      <td>1</td>\n",
       "      <td>at_home</td>\n",
       "      <td>other</td>\n",
       "      <td>...</td>\n",
       "      <td>5</td>\n",
       "      <td>3</td>\n",
       "      <td>3</td>\n",
       "      <td>1</td>\n",
       "      <td>1</td>\n",
       "      <td>3</td>\n",
       "      <td>4</td>\n",
       "      <td>5</td>\n",
       "      <td>5</td>\n",
       "      <td>6</td>\n",
       "    </tr>\n",
       "    <tr>\n",
       "      <th>2</th>\n",
       "      <td>GP</td>\n",
       "      <td>F</td>\n",
       "      <td>15</td>\n",
       "      <td>U</td>\n",
       "      <td>LE3</td>\n",
       "      <td>T</td>\n",
       "      <td>1</td>\n",
       "      <td>1</td>\n",
       "      <td>at_home</td>\n",
       "      <td>other</td>\n",
       "      <td>...</td>\n",
       "      <td>4</td>\n",
       "      <td>3</td>\n",
       "      <td>2</td>\n",
       "      <td>2</td>\n",
       "      <td>3</td>\n",
       "      <td>3</td>\n",
       "      <td>10</td>\n",
       "      <td>7</td>\n",
       "      <td>8</td>\n",
       "      <td>10</td>\n",
       "    </tr>\n",
       "    <tr>\n",
       "      <th>3</th>\n",
       "      <td>GP</td>\n",
       "      <td>F</td>\n",
       "      <td>15</td>\n",
       "      <td>U</td>\n",
       "      <td>GT3</td>\n",
       "      <td>T</td>\n",
       "      <td>4</td>\n",
       "      <td>2</td>\n",
       "      <td>health</td>\n",
       "      <td>services</td>\n",
       "      <td>...</td>\n",
       "      <td>3</td>\n",
       "      <td>2</td>\n",
       "      <td>2</td>\n",
       "      <td>1</td>\n",
       "      <td>1</td>\n",
       "      <td>5</td>\n",
       "      <td>2</td>\n",
       "      <td>15</td>\n",
       "      <td>14</td>\n",
       "      <td>15</td>\n",
       "    </tr>\n",
       "    <tr>\n",
       "      <th>4</th>\n",
       "      <td>GP</td>\n",
       "      <td>F</td>\n",
       "      <td>16</td>\n",
       "      <td>U</td>\n",
       "      <td>GT3</td>\n",
       "      <td>T</td>\n",
       "      <td>3</td>\n",
       "      <td>3</td>\n",
       "      <td>other</td>\n",
       "      <td>other</td>\n",
       "      <td>...</td>\n",
       "      <td>4</td>\n",
       "      <td>3</td>\n",
       "      <td>2</td>\n",
       "      <td>1</td>\n",
       "      <td>2</td>\n",
       "      <td>5</td>\n",
       "      <td>4</td>\n",
       "      <td>6</td>\n",
       "      <td>10</td>\n",
       "      <td>10</td>\n",
       "    </tr>\n",
       "  </tbody>\n",
       "</table>\n",
       "<p>5 rows × 33 columns</p>\n",
       "</div>"
      ],
      "text/plain": [
       "  school sex  age address famsize Pstatus  Medu  Fedu     Mjob      Fjob  ...  \\\n",
       "0     GP   F   18       U     GT3       A     4     4  at_home   teacher  ...   \n",
       "1     GP   F   17       U     GT3       T     1     1  at_home     other  ...   \n",
       "2     GP   F   15       U     LE3       T     1     1  at_home     other  ...   \n",
       "3     GP   F   15       U     GT3       T     4     2   health  services  ...   \n",
       "4     GP   F   16       U     GT3       T     3     3    other     other  ...   \n",
       "\n",
       "  famrel freetime  goout  Dalc  Walc health absences  G1  G2  G3  \n",
       "0      4        3      4     1     1      3        6   5   6   6  \n",
       "1      5        3      3     1     1      3        4   5   5   6  \n",
       "2      4        3      2     2     3      3       10   7   8  10  \n",
       "3      3        2      2     1     1      5        2  15  14  15  \n",
       "4      4        3      2     1     2      5        4   6  10  10  \n",
       "\n",
       "[5 rows x 33 columns]"
      ]
     },
     "execution_count": 40,
     "metadata": {},
     "output_type": "execute_result"
    }
   ],
   "source": [
    "#Import Library\n",
    "import numpy as np\n",
    "import pandas as pd\n",
    "from sklearn import linear_model\n",
    "import sklearn\n",
    "from sklearn.utils import shuffle\n",
    "import matplotlib.pyplot as plt\n",
    "from matplotlib import style\n",
    "import seaborn as sns\n",
    "import pickle\n",
    "\n",
    "style.use(\"ggplot\")\n",
    "\n",
    "data = pd.read_csv(\"student-mat.csv\", sep=\";\")\n",
    "\n",
    "data.head()"
   ]
  },
  {
   "cell_type": "code",
   "execution_count": 41,
   "id": "6e85a413",
   "metadata": {},
   "outputs": [],
   "source": [
    "# Label: G3 (is what we're trying to get / what we're looking for)\n",
    "# G3 is the final scores of student in 3 Grade.\n",
    "predict = \"G3\"\n",
    "\n",
    "# We cut down our df to following attributes:\n",
    "data = data[[\"G1\", \"G2\", \"absences\",\"failures\", \"studytime\",\"G3\"]]\n",
    "data = shuffle(data) # Optional - shuffle the data\n",
    "\n",
    "# Attributes\n",
    "x = np.array(data.drop([predict], 1))\n",
    "# Labels\n",
    "y =np.array(data[predict]) \n"
   ]
  },
  {
   "cell_type": "code",
   "execution_count": 51,
   "id": "1f4f8da2",
   "metadata": {},
   "outputs": [
    {
     "data": {
      "text/plain": [
       "<AxesSubplot:>"
      ]
     },
     "execution_count": 51,
     "metadata": {},
     "output_type": "execute_result"
    },
    {
     "data": {
      "image/png": "[encoded data removed]",
      "text/plain": [
       "<Figure size 432x288 with 2 Axes>"
      ]
     },
     "metadata": {},
     "output_type": "display_data"
    }
   ],
   "source": [
    "# Attributes --> Labels (Training)\n",
    "# Attributes --> ?      (Testing)\n",
    "# split up 10% of data into test samples\n",
    "x_train, x_test, y_train, y_test = sklearn.model_selection.train_test_split(x, y, test_size=0.1)\n",
    "\n",
    "\n",
    "### NUMERICAL ANALYSIS ###\n",
    "x_df = data.drop([predict], 1)\n",
    "y_df = data[predict]\n",
    "df_num = data[['G1','G2',\"G3\"]]\n",
    "df_cat = data[[\"absences\",\"failures\", \"studytime\"]]\n",
    "sns.heatmap(df_num.corr())"
   ]
  },
  {
   "cell_type": "code",
   "execution_count": 50,
   "id": "4a6edf4f",
   "metadata": {},
   "outputs": [
    {
     "data": {
      "image/png": "[encoded data removed]",
      "text/plain": [
       "<Figure size 432x288 with 1 Axes>"
      ]
     },
     "metadata": {},
     "output_type": "display_data"
    },
    {
     "data": {
      "image/png": "[encoded data removed]",
      "text/plain": [
       "<Figure size 432x288 with 1 Axes>"
      ]
     },
     "metadata": {},
     "output_type": "display_data"
    },
    {
     "data": {
      "image/png": "[encoded data removed]",
      "text/plain": [
       "<Figure size 432x288 with 1 Axes>"
      ]
     },
     "metadata": {},
     "output_type": "display_data"
    }
   ],
   "source": [
    "for i in df_num.columns:\n",
    "    plt.hist(df_num[i])\n",
    "    plt.title(i)\n",
    "    plt.show()"
   ]
  },
  {
   "cell_type": "code",
   "execution_count": 52,
   "id": "7b174ebe",
   "metadata": {},
   "outputs": [
    {
     "name": "stderr",
     "output_type": "stream",
     "text": [
      "C:\\Users\\alkat\\anaconda3\\lib\\site-packages\\seaborn\\_decorators.py:36: FutureWarning: Pass the following variables as keyword args: x, y. From version 0.12, the only valid positional argument will be `data`, and passing other arguments without an explicit keyword will result in an error or misinterpretation.\n",
      "  warnings.warn(\n"
     ]
    },
    {
     "data": {
      "image/png": "[encoded data removed]",
      "text/plain": [
       "<Figure size 432x288 with 1 Axes>"
      ]
     },
     "metadata": {},
     "output_type": "display_data"
    },
    {
     "name": "stderr",
     "output_type": "stream",
     "text": [
      "C:\\Users\\alkat\\anaconda3\\lib\\site-packages\\seaborn\\_decorators.py:36: FutureWarning: Pass the following variables as keyword args: x, y. From version 0.12, the only valid positional argument will be `data`, and passing other arguments without an explicit keyword will result in an error or misinterpretation.\n",
      "  warnings.warn(\n"
     ]
    },
    {
     "data": {
      "image/png": "[encoded data removed]",
      "text/plain": [
       "<Figure size 432x288 with 1 Axes>"
      ]
     },
     "metadata": {},
     "output_type": "display_data"
    },
    {
     "name": "stderr",
     "output_type": "stream",
     "text": [
      "C:\\Users\\alkat\\anaconda3\\lib\\site-packages\\seaborn\\_decorators.py:36: FutureWarning: Pass the following variables as keyword args: x, y. From version 0.12, the only valid positional argument will be `data`, and passing other arguments without an explicit keyword will result in an error or misinterpretation.\n",
      "  warnings.warn(\n"
     ]
    },
    {
     "data": {
      "image/png": "[encoded data removed]",
      "text/plain": [
       "<Figure size 432x288 with 1 Axes>"
      ]
     },
     "metadata": {},
     "output_type": "display_data"
    }
   ],
   "source": [
    "### Categorical Analysis ###\n",
    "# Show Distributions for all categorical variables / columns\n",
    "for i in df_cat.columns:\n",
    "    sns.barplot(df_cat[i].value_counts().index, df_cat[i].value_counts()).set_title(i)\n",
    "    plt.show()"
   ]
  },
  {
   "cell_type": "code",
   "execution_count": 2,
   "id": "4c30227d",
   "metadata": {},
   "outputs": [
    {
     "name": "stderr",
     "output_type": "stream",
     "text": [
      "No handles with labels found to put in legend.\n"
     ]
    },
    {
     "name": "stdout",
     "output_type": "stream",
     "text": [
      "Accuracy: 0.5866324062897985\n",
      "Accuracy: 0.8364514253412505\n",
      "Accuracy: 0.8422289959805951\n",
      "Accuracy: 0.8483722264696976\n",
      "Accuracy: 0.8308047614798494\n",
      "Accuracy: 0.7509135746760264\n",
      "Accuracy: 0.711242395914672\n",
      "Accuracy: 0.867834035343823\n",
      "Accuracy: 0.8298997965268892\n",
      "Accuracy: 0.874614654942594\n",
      "Accuracy: 0.6843234853228777\n",
      "Accuracy: 0.8804877980395349\n",
      "Accuracy: 0.7859432335212804\n",
      "Accuracy: 0.774730019906687\n",
      "Accuracy: 0.8910069702876313\n",
      "Accuracy: 0.9101003403592323\n",
      "Accuracy: 0.8378482402322229\n",
      "Accuracy: 0.748285513383966\n",
      "Accuracy: 0.9040887421974603\n",
      "Accuracy: 0.8286904430323361\n",
      "______________________________________\n",
      "\n",
      "Coefficient in 5D-Space:  [ 0.14929275  0.98669119  0.03786191 -0.27234744 -0.21284321]\n",
      "Intercept:  -1.5253738110370882\n",
      "______________________________________\n",
      "\n",
      "Predicted Final Grade - Input Data - Actual Final Grade\n",
      "6.327256328794325 [7 7 3 0 1] 8\n",
      "11.886999055538293 [14 11 18  0  1] 13\n",
      "8.274950167241775 [8 9 4 0 2] 10\n",
      "11.296419302083828 [ 8 12  0  0  1] 12\n",
      "3.392961591315303 [6 5 0 1 3] 0\n",
      "8.284968637602256 [10  9  2  0  3] 10\n",
      "15.164422762800541 [15 15  2  0  2] 16\n",
      "14.93940618456779 [14 15  0  0  2] 15\n",
      "10.994796315517359 [13 11  4  0  2] 11\n",
      "11.110536950809344 [12 11 11  0  2] 11\n",
      "10.933400755550934 [13 11  8  0  3] 11\n",
      "12.808867475402263 [10 13  6  0  1] 13\n",
      "17.575664934705575 [16 17  4  0  1] 18\n",
      "9.49667640746022 [11 10  4  0  3] 10\n",
      "13.041747626545089 [14 13  2  0  2] 13\n",
      "15.713254165771136 [14 16  0  0  3] 16\n",
      "6.864727452223244 [7 8 8 0 4] 8\n",
      "12.593869367529992 [11 13  2  0  2] 14\n",
      "11.197711348172374 [11 12  4  1  3] 11\n",
      "8.474278200671558 [10  9  7  0  3] 9\n",
      "7.996401601952673 [10  9  0  0  4] 0\n",
      "-0.5438749974186922 [8 0 0 0 1] 0\n",
      "14.404903046858493 [15 14  8  0  2] 14\n",
      "9.40877921442161 [10 10  0  0  2] 10\n",
      "10.757606369473717 [11 11  0  0  1] 12\n",
      "10.109058267847644 [ 9 11  2  0  3] 11\n",
      "12.800121319386188 [13 12 20  0  1] 12\n",
      "5.153110628329032 [ 6  6 22  2  2] 4\n",
      "8.485511913998785 [ 8  8 30  0  1] 8\n",
      "10.843348665061919 [13 11  0  0  2] 10\n",
      "10.010260021342555 [12 10  8  0  2] 11\n",
      "9.31860055771815 [ 9  9 22  0  1] 9\n",
      "18.936665457568576 [18 18  6  0  1] 18\n",
      "13.197505071901343 [12 13 14  0  2] 12\n",
      "10.544763159051854 [11 11  0  0  2] 10\n",
      "11.780817664531591 [14 12  6  0  4] 13\n",
      "11.261731468835894 [10  9 75  0  2] 9\n",
      "11.907918579365253 [12 12  6  0  2] 12\n",
      "10.33191994862999 [11 11  0  0  3] 10\n",
      "15.002956641984621 [13 15  0  0  1] 15\n"
     ]
    },
    {
     "data": {
      "image/png": "[encoded data removed]",
      "text/plain": [
       "<Figure size 432x288 with 1 Axes>"
      ]
     },
     "metadata": {},
     "output_type": "display_data"
    }
   ],
   "source": [
    "# TRAIN MODEL MULTIPLE TIMES FOR BEST SCORE\n",
    "best = 0\n",
    "for _ in range(20):\n",
    "    # split df up\n",
    "    x_train, x_test, y_train, y_test = sklearn.model_selection.train_test_split(x, y, test_size=0.1)\n",
    "    # choose model\n",
    "    linear = linear_model.LinearRegression()\n",
    "    # train model\n",
    "    linear.fit(x_train, y_train)\n",
    "    # test & return accuracy\n",
    "    acc = linear.score(x_test, y_test)\n",
    "    print(\"Accuracy: \" + str(acc))\n",
    "\n",
    "    # save our new model if the current score better than the previous one that we've seen.\n",
    "    if acc > best:\n",
    "        best = acc\n",
    "        with open(\"studentgrades.pickle\", \"wb\") as f:\n",
    "            pickle.dump(linear, f)\n",
    "\n",
    "# LOAD pickle into our linear model\n",
    "pickle_in = open(\"studentgrades.pickle\", \"rb\")\n",
    "linear = pickle.load(pickle_in)\n",
    "\n",
    "\n",
    "print(\"______________________________________\\n\")\n",
    "print('Coefficients / Slopes in 5D-Space: ', linear.coef_) # how fast our line increases.\n",
    "print('Intercept: ', linear.intercept_)\n",
    "print(\"______________________________________\\n\") \n",
    "# intercept; where our line on Y starts.\n",
    "# slope = (y2 – y1) / (x2 – x1)\n",
    "\n",
    "# We're gonna use our model to predict y_test \n",
    "# by feeding machine with x_test\n",
    "predicted = linear.predict(x_test)\n",
    "# Show Input Data & predictions\n",
    "\n",
    "print(\"Predicted Final Grade - Input Data - Actual Final Grade\")\n",
    "for x in range(len(predicted)):\n",
    "    print(predicted[x], x_test[x], y_test[x])\n",
    "\n",
    "\n",
    "# Drawing and plotting model\n",
    "plot = \"failures\"\n",
    "plt.scatter(data[plot], data[\"G3\"])\n",
    "plt.legend(loc=4)\n",
    "plt.xlabel(plot)\n",
    "plt.ylabel(\"Final Grade\")\n",
    "plt.show()\n",
    "\n",
    "#\"G1\", \"G2\", \"absences\",\"failures\", \"studytime\","
   ]
  },
  {
   "cell_type": "code",
   "execution_count": 45,
   "id": "254ecfbd",
   "metadata": {},
   "outputs": [],
   "source": [
    "# Building a model using a polynomial function\n",
    "# First Step is to seperate Attributes from Lables\n",
    "# Attributes\n",
    "x = np.array(data.drop([predict], axis=1))\n",
    "# Labels\n",
    "y =np.array(data[predict])\n",
    "\n",
    "# Introduction of Polynomial Featuers \n",
    "from sklearn.preprocessing import PolynomialFeatures\n",
    "polynomial_converter = PolynomialFeatures(degree=3)\n",
    "\n",
    "# Converter \"fits\" to data, in this case, reads in every X column\n",
    "# Then it \"transforms\" and ouputs the new polynomial data\n",
    "poly_features = polynomial_converter.fit_transform(x)\n",
    "\n",
    "x_train, x_test, y_train, y_test = sklearn.model_selection.train_test_split(poly_features, y, test_size=0.1)\n"
   ]
  },
  {
   "cell_type": "code",
   "execution_count": 46,
   "id": "dc6d357a",
   "metadata": {},
   "outputs": [],
   "source": [
    "from sklearn.linear_model import LinearRegression\n",
    "model = LinearRegression()\n",
    "model.fit(x_train, y_train)\n",
    "\n",
    "# We evaluate its performance on the test set\n",
    "# Testing our model\n",
    "test_predictions = model.predict (x_test) #polynomial_converter.fit_transform(x_test)\n",
    "\n",
    "# model.coef_"
   ]
  },
  {
   "cell_type": "code",
   "execution_count": 47,
   "id": "333c933c",
   "metadata": {},
   "outputs": [],
   "source": [
    "# Polynomial Regression is better than linear Regression because:\n",
    "from sklearn.metrics import mean_absolute_error,mean_squared_error\n",
    "MAE = mean_absolute_error(y_test,test_predictions)\n",
    "MSE = mean_squared_error(y_test,test_predictions)\n",
    "RMSE = np.sqrt(MSE) # root mean squared error"
   ]
  },
  {
   "cell_type": "code",
   "execution_count": 48,
   "id": "cd35e2ee",
   "metadata": {},
   "outputs": [
    {
     "data": {
      "text/plain": [
       "2.000111436843872"
      ]
     },
     "execution_count": 48,
     "metadata": {},
     "output_type": "execute_result"
    }
   ],
   "source": [
    "MAE"
   ]
  },
  {
   "cell_type": "code",
   "execution_count": 49,
   "id": "16fcd48d",
   "metadata": {},
   "outputs": [
    {
     "data": {
      "text/plain": [
       "15.64013903549594"
      ]
     },
     "execution_count": 49,
     "metadata": {},
     "output_type": "execute_result"
    }
   ],
   "source": [
    "MSE"
   ]
  },
  {
   "cell_type": "code",
   "execution_count": 50,
   "id": "050bf614",
   "metadata": {},
   "outputs": [
    {
     "data": {
      "text/plain": [
       "3.954761564936114"
      ]
     },
     "execution_count": 50,
     "metadata": {},
     "output_type": "execute_result"
    }
   ],
   "source": [
    "RMSE"
   ]
  },
  {
   "cell_type": "code",
   "execution_count": 43,
   "id": "bedff69d",
   "metadata": {},
   "outputs": [
    {
     "data": {
      "text/plain": [
       "10.415189873417722"
      ]
     },
     "execution_count": 43,
     "metadata": {},
     "output_type": "execute_result"
    }
   ],
   "source": [
    "data['G3'].mean()"
   ]
  },
  {
   "cell_type": "code",
   "execution_count": null,
   "id": "1c1cba07",
   "metadata": {},
   "outputs": [],
   "source": []
  },
  {
   "cell_type": "code",
   "execution_count": 21,
   "id": "c0a9ad3a",
   "metadata": {},
   "outputs": [],
   "source": [
    "### Regularization with SciKit-Learn ###\n",
    "\n",
    "import numpy as np\n",
    "import pandas as pd\n",
    "import matplotlib.pyplot as plt\n",
    "import seaborn as sns\n",
    "\n",
    "df = pd.read_csv(\"student-mat.csv\", sep=\";\")\n",
    "\n",
    "# We cut down our df to following attributes:\n",
    "df = df[[\"G1\", \"G2\", \"absences\",\"failures\", \"studytime\",\"G3\"]]\n",
    "\n",
    "# Attributes\n",
    "X = df.drop([\"G3\"], axis=1)\n",
    "# Labels\n",
    "y =df[\"G3\"]\n"
   ]
  },
  {
   "cell_type": "code",
   "execution_count": 22,
   "id": "c1843792",
   "metadata": {},
   "outputs": [
    {
     "data": {
      "text/plain": [
       "(395, 5)"
      ]
     },
     "execution_count": 22,
     "metadata": {},
     "output_type": "execute_result"
    }
   ],
   "source": [
    "# Create the Polynomial Feature Set\n",
    "from sklearn.preprocessing import PolynomialFeatures\n",
    "polynomial_converter = PolynomialFeatures(degree=2, include_bias=False)\n",
    "poly_features = polynomial_converter.fit_transform(X)\n",
    "X.shape"
   ]
  },
  {
   "cell_type": "code",
   "execution_count": 23,
   "id": "04e72440",
   "metadata": {},
   "outputs": [
    {
     "data": {
      "text/plain": [
       "(395, 20)"
      ]
     },
     "execution_count": 23,
     "metadata": {},
     "output_type": "execute_result"
    }
   ],
   "source": [
    "# poly_features include not just the original terms \n",
    "# but also interaction (higher degree) Terms\n",
    "poly_features.shape"
   ]
  },
  {
   "cell_type": "code",
   "execution_count": 24,
   "id": "06b5cb90",
   "metadata": {},
   "outputs": [],
   "source": [
    "# Train | Test Split\n",
    "from sklearn.model_selection import train_test_split\n",
    "X_train, X_test, y_train, y_test = train_test_split(poly_features, y, test_size=0.1)\n"
   ]
  },
  {
   "cell_type": "code",
   "execution_count": 25,
   "id": "8daf0cca",
   "metadata": {},
   "outputs": [
    {
     "data": {
      "text/plain": [
       "array([ 2.1801074 ,  1.46329902, -0.71465103, -0.46337631,  1.15053101,\n",
       "        2.61464798,  2.17686421, -0.71940815, -0.4675205 ,  2.44237801,\n",
       "        1.72767487, -0.7371801 , -0.44996336,  1.97695309, -0.25114116,\n",
       "       -0.333327  , -0.67764573, -0.35857453, -0.44925713,  1.0577742 ])"
      ]
     },
     "execution_count": 25,
     "metadata": {},
     "output_type": "execute_result"
    }
   ],
   "source": [
    "# Scaling the Data\n",
    "from sklearn.preprocessing import StandardScaler\n",
    "scaler = StandardScaler()\n",
    "scaler.fit(X_train)\n",
    "X_train = scaler.transform(X_train)\n",
    "X_test = scaler.transform(X_test)\n",
    "X_train[0]"
   ]
  },
  {
   "cell_type": "code",
   "execution_count": 26,
   "id": "c541ec1e",
   "metadata": {},
   "outputs": [
    {
     "data": {
      "text/plain": [
       "array([ 5.,  6.,  6.,  0.,  2., 25., 30., 30.,  0., 10., 36., 36.,  0.,\n",
       "       12., 36.,  0., 12.,  0.,  0.,  4.])"
      ]
     },
     "execution_count": 26,
     "metadata": {},
     "output_type": "execute_result"
    }
   ],
   "source": [
    "poly_features[0]"
   ]
  },
  {
   "cell_type": "code",
   "execution_count": 27,
   "id": "017d8fba",
   "metadata": {},
   "outputs": [
    {
     "data": {
      "text/plain": [
       "Ridge(alpha=1)"
      ]
     },
     "execution_count": 27,
     "metadata": {},
     "output_type": "execute_result"
    }
   ],
   "source": [
    "### Ridge Regression ###\n",
    "# helps by reducing the potential for overfitting to the training data\n",
    "# it does this by adding in a \"Penalty Term\" to the error that is \n",
    "# based on the squared value of the coefficients.\n",
    "\n",
    "from sklearn.linear_model import Ridge\n",
    "\n",
    "# using the cross validation method we're gonna show later \n",
    "# why 10 is the best alpha value that we can choose\n",
    "ridge_model = Ridge(alpha=1)\n",
    "ridge_model.fit(X_train,y_train)\n",
    "# help(Ridge)"
   ]
  },
  {
   "cell_type": "code",
   "execution_count": 28,
   "id": "536d917d",
   "metadata": {},
   "outputs": [],
   "source": [
    "test_predictions = ridge_model.predict(X_test)\n",
    "from sklearn.metrics import mean_absolute_error,mean_squared_error\n",
    "MAE = mean_absolute_error(y_test,test_predictions)\n",
    "MSE = mean_squared_error(y_test,test_predictions)\n",
    "RMSE = np.sqrt(MSE)"
   ]
  },
  {
   "cell_type": "code",
   "execution_count": 29,
   "id": "5c1f8007",
   "metadata": {},
   "outputs": [
    {
     "data": {
      "text/plain": [
       "1.1982532492605362"
      ]
     },
     "execution_count": 29,
     "metadata": {},
     "output_type": "execute_result"
    }
   ],
   "source": [
    "MAE"
   ]
  },
  {
   "cell_type": "code",
   "execution_count": 30,
   "id": "2242efe8",
   "metadata": {},
   "outputs": [
    {
     "data": {
      "text/plain": [
       "1.9332720401387817"
      ]
     },
     "execution_count": 30,
     "metadata": {},
     "output_type": "execute_result"
    }
   ],
   "source": [
    "RMSE"
   ]
  },
  {
   "cell_type": "code",
   "execution_count": 31,
   "id": "b1c92b88",
   "metadata": {},
   "outputs": [],
   "source": [
    "from sklearn.linear_model import RidgeCV # Ridge with cross validation\n",
    "# RidgeVC is gonna perform a cross validation for a variety of alpha values\n",
    "# and then it is gonna report back the best alpha value performance\n",
    "\n",
    "# See all options: sklearn.metrics.SCORERS.keys()\n",
    "ridge_cv_model = RidgeCV(alphas=(0.1, 1.0, 10.0),scoring='neg_mean_absolute_error')\n"
   ]
  },
  {
   "cell_type": "code",
   "execution_count": 32,
   "id": "51940e03",
   "metadata": {},
   "outputs": [
    {
     "data": {
      "text/plain": [
       "RidgeCV(alphas=array([ 0.1,  1. , 10. ]), scoring='neg_mean_absolute_error')"
      ]
     },
     "execution_count": 32,
     "metadata": {},
     "output_type": "execute_result"
    }
   ],
   "source": [
    "# The more alpha options you pass, the longer this will take.\n",
    "# Fortunately our data set is still pretty small\n",
    "ridge_cv_model.fit(X_train,y_train)"
   ]
  },
  {
   "cell_type": "code",
   "execution_count": 33,
   "id": "7b0ae34e",
   "metadata": {},
   "outputs": [
    {
     "data": {
      "text/plain": [
       "0.1"
      ]
     },
     "execution_count": 33,
     "metadata": {},
     "output_type": "execute_result"
    }
   ],
   "source": [
    "# the alpha that did the best is:\n",
    "ridge_cv_model.alpha_"
   ]
  },
  {
   "cell_type": "code",
   "execution_count": 34,
   "id": "813bc1a1",
   "metadata": {},
   "outputs": [],
   "source": [
    "test_predictions = ridge_cv_model.predict(X_test)\n",
    "\n",
    "MAE = mean_absolute_error(y_test,test_predictions)\n",
    "MSE = mean_squared_error(y_test,test_predictions)\n",
    "RMSE = np.sqrt(MSE)"
   ]
  },
  {
   "cell_type": "code",
   "execution_count": 35,
   "id": "572bc87b",
   "metadata": {},
   "outputs": [
    {
     "data": {
      "text/plain": [
       "1.241200538156996"
      ]
     },
     "execution_count": 35,
     "metadata": {},
     "output_type": "execute_result"
    }
   ],
   "source": [
    "MAE"
   ]
  },
  {
   "cell_type": "code",
   "execution_count": 36,
   "id": "455c3051",
   "metadata": {},
   "outputs": [
    {
     "data": {
      "text/plain": [
       "1.9574379260919614"
      ]
     },
     "execution_count": 36,
     "metadata": {},
     "output_type": "execute_result"
    }
   ],
   "source": [
    "RMSE"
   ]
  },
  {
   "cell_type": "code",
   "execution_count": null,
   "id": "d6459e96",
   "metadata": {},
   "outputs": [],
   "source": [
    "# using the cross validation to determine the best alpha, \n",
    "# has improved the Results slightly now"
   ]
  },
  {
   "cell_type": "code",
   "execution_count": 37,
   "id": "06185686",
   "metadata": {},
   "outputs": [
    {
     "data": {
      "text/plain": [
       "array([ 0.4750282 ,  3.44455492,  1.94283909, -1.99389071, -0.34232484,\n",
       "        2.67357497, -5.38585156,  0.06043811,  0.33203071, -0.66301224,\n",
       "        2.82418203, -1.49850151,  0.20723506,  1.34538529, -0.87861077,\n",
       "        0.08842517,  0.59872747,  1.36020439, -0.07297938, -0.36010142])"
      ]
     },
     "execution_count": 37,
     "metadata": {},
     "output_type": "execute_result"
    }
   ],
   "source": [
    "ridge_cv_model.coef_"
   ]
  },
  {
   "cell_type": "code",
   "execution_count": null,
   "id": "4bd2fe90",
   "metadata": {},
   "outputs": [],
   "source": []
  }
 ],
 "metadata": {
  "kernelspec": {
   "display_name": "Python 3 (ipykernel)",
   "language": "python",
   "name": "python3"
  },
  "language_info": {
   "codemirror_mode": {
    "name": "ipython",
    "version": 3
   },
   "file_extension": ".py",
   "mimetype": "text/x-python",
   "name": "python",
   "nbconvert_exporter": "python",
   "pygments_lexer": "ipython3",
   "version": "3.9.7"
  }
 },
 "nbformat": 4,
 "nbformat_minor": 5
}
